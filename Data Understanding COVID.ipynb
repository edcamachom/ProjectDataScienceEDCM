{
 "cells": [
  {
   "cell_type": "code",
   "execution_count": 2,
   "metadata": {},
   "outputs": [
    {
     "name": "stdout",
     "output_type": "stream",
     "text": [
      "       Fecha reporte web  ID de caso  Fecha de notificación  \\\n",
      "0                  43912       213.0                  43909   \n",
      "1                  43914       328.0                  43911   \n",
      "2                  43918       549.0                  43916   \n",
      "3                  43919       662.0                  43918   \n",
      "4                  43921       812.0                  43914   \n",
      "...                  ...         ...                    ...   \n",
      "25532              44133         NaN                  44121   \n",
      "25533              44133         NaN                  44121   \n",
      "25534              44133         NaN                  44121   \n",
      "25535              44133         NaN                  44117   \n",
      "25536              44133         NaN                  44119   \n",
      "\n",
      "       Código DIVIPOLA departamento Nombre departamento  \\\n",
      "0                                20               CESAR   \n",
      "1                                20               CESAR   \n",
      "2                                20               CESAR   \n",
      "3                                20               CESAR   \n",
      "4                                20               CESAR   \n",
      "...                             ...                 ...   \n",
      "25532                            20               CESAR   \n",
      "25533                            20               CESAR   \n",
      "25534                            20               CESAR   \n",
      "25535                            20               CESAR   \n",
      "25536                            20               CESAR   \n",
      "\n",
      "       Código DIVIPOLA municipio Nombre municipio  Edad  \\\n",
      "0                         20.001       VALLEDUPAR    30   \n",
      "1                         20.001       VALLEDUPAR    33   \n",
      "2                         20.001       VALLEDUPAR    16   \n",
      "3                         20.001       VALLEDUPAR    36   \n",
      "4                         20.001       VALLEDUPAR    46   \n",
      "...                          ...              ...   ...   \n",
      "25532                     20.001       VALLEDUPAR    43   \n",
      "25533                     20.001       VALLEDUPAR    36   \n",
      "25534                     20.001       VALLEDUPAR    50   \n",
      "25535                     20.621  ROBLES (LA PAZ)    40   \n",
      "25536                     20.001       VALLEDUPAR    60   \n",
      "\n",
      "       Unidad de medida de edad Sexo  ... Código ISO del país  \\\n",
      "0                             1    M  ...               724.0   \n",
      "1                             1    M  ...                 NaN   \n",
      "2                             1    F  ...               826.0   \n",
      "3                             1    M  ...               724.0   \n",
      "4                             1    M  ...                 NaN   \n",
      "...                         ...  ...  ...                 ...   \n",
      "25532                         1    M  ...                 NaN   \n",
      "25533                         1    M  ...                 NaN   \n",
      "25534                         1    M  ...                 NaN   \n",
      "25535                         1    M  ...                 NaN   \n",
      "25536                         1    F  ...                 NaN   \n",
      "\n",
      "                                       Nombre del país  Recuperado  \\\n",
      "0                                               ESPAÑA  Recuperado   \n",
      "1                                                  NaN  Recuperado   \n",
      "2      REINO UNIDO DE GRAN BRETAÑA E IRLANDA DEL NORTE  Recuperado   \n",
      "3                                               ESPAÑA  Recuperado   \n",
      "4                                                  NaN  Recuperado   \n",
      "...                                                ...         ...   \n",
      "25532                                              NaN  Recuperado   \n",
      "25533                                              NaN  Recuperado   \n",
      "25534                                              NaN  Recuperado   \n",
      "25535                                              NaN  Recuperado   \n",
      "25536                                              NaN  Recuperado   \n",
      "\n",
      "       Fecha de inicio de síntomas Fecha de muerte Fecha de diagnóstico  \\\n",
      "0                          43905.0             NaN                43912   \n",
      "1                          43904.0             NaN                43914   \n",
      "2                          43911.0             NaN                43918   \n",
      "3                              NaN             NaN                43919   \n",
      "4                          43906.0             NaN                43921   \n",
      "...                            ...             ...                  ...   \n",
      "25532                      44118.0             NaN                44131   \n",
      "25533                      44118.0             NaN                44131   \n",
      "25534                      44118.0             NaN                44131   \n",
      "25535                      44114.0             NaN                44127   \n",
      "25536                      44116.0             NaN                44130   \n",
      "\n",
      "       Fecha de recuperación  Tipo de recuperación  Pertenencia étnica  \\\n",
      "0                    43915.0                   PCR                   6   \n",
      "1                    43929.0                   PCR                   6   \n",
      "2                    43925.0                   PCR                   6   \n",
      "3                    43925.0                   PCR                   6   \n",
      "4                    43936.0                   PCR                   6   \n",
      "...                      ...                   ...                 ...   \n",
      "25532                44134.0                   PCR                   6   \n",
      "25533                44134.0                   PCR                   6   \n",
      "25534                44147.0                   PCR                   6   \n",
      "25535                44134.0                Tiempo                   6   \n",
      "25536                44134.0                Tiempo                   6   \n",
      "\n",
      "       Nombre del grupo étnico  \n",
      "0                          NaN  \n",
      "1                          NaN  \n",
      "2                          NaN  \n",
      "3                          NaN  \n",
      "4                          NaN  \n",
      "...                        ...  \n",
      "25532                      NaN  \n",
      "25533                      NaN  \n",
      "25534                      NaN  \n",
      "25535                      NaN  \n",
      "25536                      NaN  \n",
      "\n",
      "[25537 rows x 23 columns]\n"
     ]
    }
   ],
   "source": [
    "import pandas as pd\n",
    "import matplotlib.pyplot as plt\n",
    "import seaborn as sns\n",
    "#-------------------------------------------------\n",
    "#Lectura de los archivos y creación de dataframe base de datos \"Datos_Covid_Cesar\"\n",
    "df = pd.read_excel('Datos_Covid_Cesar.xlsx')\n",
    "print(df)"
   ]
  },
  {
   "cell_type": "code",
   "execution_count": 55,
   "metadata": {},
   "outputs": [
    {
     "data": {
      "text/plain": [
       "Index(['Fecha reporte web', 'ID de caso', 'Fecha de notificación',\n",
       "       'Código DIVIPOLA departamento', 'Nombre departamento',\n",
       "       'Código DIVIPOLA municipio', 'Nombre municipio', 'Edad',\n",
       "       'Unidad de medida de edad', 'Sexo', 'Tipo de contagio',\n",
       "       'Ubicación del caso', 'Estado', 'Código ISO del país',\n",
       "       'Nombre del país', 'Recuperado', 'Fecha de inicio de síntomas',\n",
       "       'Fecha de muerte', 'Fecha de diagnóstico', 'Fecha de recuperación',\n",
       "       'Tipo de recuperación', 'Pertenencia étnica',\n",
       "       'Nombre del grupo étnico'],\n",
       "      dtype='object')"
      ]
     },
     "execution_count": 55,
     "metadata": {},
     "output_type": "execute_result"
    }
   ],
   "source": [
    "#Mostrar Columnas del df\n",
    "df.columns"
   ]
  },
  {
   "cell_type": "code",
   "execution_count": 3,
   "metadata": {
    "scrolled": true
   },
   "outputs": [
    {
     "name": "stdout",
     "output_type": "stream",
     "text": [
      "       Código DIVIPOLA municipio Nombre municipio  Edad Sexo Tipo de contagio  \\\n",
      "0                         20.001       VALLEDUPAR    30    M        Importado   \n",
      "1                         20.001       VALLEDUPAR    33    M      Relacionado   \n",
      "2                         20.001       VALLEDUPAR    16    F        Importado   \n",
      "3                         20.001       VALLEDUPAR    36    M        Importado   \n",
      "4                         20.001       VALLEDUPAR    46    M      Relacionado   \n",
      "...                          ...              ...   ...  ...              ...   \n",
      "25532                     20.001       VALLEDUPAR    43    M      Comunitaria   \n",
      "25533                     20.001       VALLEDUPAR    36    M      Comunitaria   \n",
      "25534                     20.001       VALLEDUPAR    50    M      Comunitaria   \n",
      "25535                     20.621  ROBLES (LA PAZ)    40    M      Comunitaria   \n",
      "25536                     20.001       VALLEDUPAR    60    F      Comunitaria   \n",
      "\n",
      "      Ubicación del caso Estado  Fecha de inicio de síntomas  Fecha de muerte  \\\n",
      "0                   Casa   Leve                      43905.0              NaN   \n",
      "1                   Casa   Leve                      43904.0              NaN   \n",
      "2                   Casa   Leve                      43911.0              NaN   \n",
      "3                   Casa   Leve                          NaN              NaN   \n",
      "4                   Casa   Leve                      43906.0              NaN   \n",
      "...                  ...    ...                          ...              ...   \n",
      "25532               Casa   Leve                      44118.0              NaN   \n",
      "25533               Casa   Leve                      44118.0              NaN   \n",
      "25534               Casa   Leve                      44118.0              NaN   \n",
      "25535               Casa   Leve                      44114.0              NaN   \n",
      "25536               Casa   Leve                      44116.0              NaN   \n",
      "\n",
      "       Fecha de diagnóstico  Fecha de recuperación  \n",
      "0                     43912                43915.0  \n",
      "1                     43914                43929.0  \n",
      "2                     43918                43925.0  \n",
      "3                     43919                43925.0  \n",
      "4                     43921                43936.0  \n",
      "...                     ...                    ...  \n",
      "25532                 44131                44134.0  \n",
      "25533                 44131                44134.0  \n",
      "25534                 44131                44147.0  \n",
      "25535                 44127                44134.0  \n",
      "25536                 44130                44134.0  \n",
      "\n",
      "[25537 rows x 11 columns]\n"
     ]
    }
   ],
   "source": [
    "#Variables de interés \n",
    "df1=df[['Código DIVIPOLA municipio', 'Nombre municipio', 'Edad', 'Sexo', 'Tipo de contagio', 'Ubicación del caso', 'Estado', 'Fecha de inicio de síntomas',\n",
    "       'Fecha de muerte', 'Fecha de diagnóstico', 'Fecha de recuperación']]\n",
    "print(df1)"
   ]
  },
  {
   "cell_type": "code",
   "execution_count": 102,
   "metadata": {},
   "outputs": [
    {
     "data": {
      "text/plain": [
       "0        20.001\n",
       "1        20.001\n",
       "2        20.001\n",
       "3        20.001\n",
       "4        20.001\n",
       "          ...  \n",
       "25532    20.001\n",
       "25533    20.001\n",
       "25534    20.001\n",
       "25535    20.621\n",
       "25536    20.001\n",
       "Name: Código DIVIPOLA municipio, Length: 25537, dtype: float64"
      ]
     },
     "execution_count": 102,
     "metadata": {},
     "output_type": "execute_result"
    }
   ],
   "source": [
    "#Código DIVIPOLA de los municipios del departamento del Cesar\n",
    "df1['Código DIVIPOLA municipio']"
   ]
  },
  {
   "cell_type": "code",
   "execution_count": 12,
   "metadata": {},
   "outputs": [
    {
     "data": {
      "text/plain": [
       "array(['VALLEDUPAR', 'SAN DIEGO', 'SAN MARTIN', 'BOSCONIA',\n",
       "       'ROBLES (LA PAZ)', 'RIO DE ORO', 'AGUSTIN CODAZZI', 'AGUACHICA',\n",
       "       'LA JAGUA DE IBIRICO', 'CHIRIGUANA', 'GONZALEZ', 'EL PASO',\n",
       "       'BECERRIL', 'EL COPEY', 'PUEBLO BELLO', 'CURUMANI', 'PAILITAS',\n",
       "       'GAMARRA', 'LA GLORIA', 'CHIMICHAGUA', 'SAN ALBERTO', 'PELAYA',\n",
       "       'TAMALAMEQUE', 'MANAURE BALCON DEL CESAR', 'ASTREA'], dtype=object)"
      ]
     },
     "execution_count": 12,
     "metadata": {},
     "output_type": "execute_result"
    }
   ],
   "source": [
    "#Nombre de los municipios del departamento del Cesar \n",
    "df1['Nombre municipio']. unique()"
   ]
  },
  {
   "cell_type": "code",
   "execution_count": 56,
   "metadata": {},
   "outputs": [
    {
     "data": {
      "text/plain": [
       "VALLEDUPAR                  17022\n",
       "AGUACHICA                    1839\n",
       "AGUSTIN CODAZZI              1112\n",
       "LA JAGUA DE IBIRICO           781\n",
       "BOSCONIA                      579\n",
       "SAN MARTIN                    434\n",
       "CURUMANI                      375\n",
       "SAN ALBERTO                   358\n",
       "ROBLES (LA PAZ)               319\n",
       "CHIRIGUANA                    317\n",
       "EL COPEY                      279\n",
       "PAILITAS                      259\n",
       "EL PASO                       258\n",
       "BECERRIL                      222\n",
       "LA GLORIA                     207\n",
       "SAN DIEGO                     198\n",
       "ASTREA                        164\n",
       "PUEBLO BELLO                  145\n",
       "RIO DE ORO                    145\n",
       "PELAYA                        129\n",
       "CHIMICHAGUA                   127\n",
       "MANAURE BALCON DEL CESAR       82\n",
       "GAMARRA                        76\n",
       "GONZALEZ                       56\n",
       "TAMALAMEQUE                    54\n",
       "Name: Nombre municipio, dtype: int64"
      ]
     },
     "execution_count": 56,
     "metadata": {},
     "output_type": "execute_result"
    }
   ],
   "source": [
    "#Cálculo de frecuencia absoluta de casos positivos de Covid-19 por municipio\n",
    "frec_Mun = pd.value_counts(df1['Nombre municipio'])\n",
    "frec_Mun"
   ]
  },
  {
   "cell_type": "code",
   "execution_count": 57,
   "metadata": {},
   "outputs": [
    {
     "data": {
      "text/html": [
       "<div>\n",
       "<style scoped>\n",
       "    .dataframe tbody tr th:only-of-type {\n",
       "        vertical-align: middle;\n",
       "    }\n",
       "\n",
       "    .dataframe tbody tr th {\n",
       "        vertical-align: top;\n",
       "    }\n",
       "\n",
       "    .dataframe thead th {\n",
       "        text-align: right;\n",
       "    }\n",
       "</style>\n",
       "<table border=\"1\" class=\"dataframe\">\n",
       "  <thead>\n",
       "    <tr style=\"text-align: right;\">\n",
       "      <th></th>\n",
       "      <th>Frec_abs</th>\n",
       "    </tr>\n",
       "  </thead>\n",
       "  <tbody>\n",
       "    <tr>\n",
       "      <th>VALLEDUPAR</th>\n",
       "      <td>17022</td>\n",
       "    </tr>\n",
       "    <tr>\n",
       "      <th>AGUACHICA</th>\n",
       "      <td>1839</td>\n",
       "    </tr>\n",
       "    <tr>\n",
       "      <th>AGUSTIN CODAZZI</th>\n",
       "      <td>1112</td>\n",
       "    </tr>\n",
       "    <tr>\n",
       "      <th>LA JAGUA DE IBIRICO</th>\n",
       "      <td>781</td>\n",
       "    </tr>\n",
       "    <tr>\n",
       "      <th>BOSCONIA</th>\n",
       "      <td>579</td>\n",
       "    </tr>\n",
       "    <tr>\n",
       "      <th>SAN MARTIN</th>\n",
       "      <td>434</td>\n",
       "    </tr>\n",
       "    <tr>\n",
       "      <th>CURUMANI</th>\n",
       "      <td>375</td>\n",
       "    </tr>\n",
       "    <tr>\n",
       "      <th>SAN ALBERTO</th>\n",
       "      <td>358</td>\n",
       "    </tr>\n",
       "    <tr>\n",
       "      <th>ROBLES (LA PAZ)</th>\n",
       "      <td>319</td>\n",
       "    </tr>\n",
       "    <tr>\n",
       "      <th>CHIRIGUANA</th>\n",
       "      <td>317</td>\n",
       "    </tr>\n",
       "    <tr>\n",
       "      <th>EL COPEY</th>\n",
       "      <td>279</td>\n",
       "    </tr>\n",
       "    <tr>\n",
       "      <th>PAILITAS</th>\n",
       "      <td>259</td>\n",
       "    </tr>\n",
       "    <tr>\n",
       "      <th>EL PASO</th>\n",
       "      <td>258</td>\n",
       "    </tr>\n",
       "    <tr>\n",
       "      <th>BECERRIL</th>\n",
       "      <td>222</td>\n",
       "    </tr>\n",
       "    <tr>\n",
       "      <th>LA GLORIA</th>\n",
       "      <td>207</td>\n",
       "    </tr>\n",
       "    <tr>\n",
       "      <th>SAN DIEGO</th>\n",
       "      <td>198</td>\n",
       "    </tr>\n",
       "    <tr>\n",
       "      <th>ASTREA</th>\n",
       "      <td>164</td>\n",
       "    </tr>\n",
       "    <tr>\n",
       "      <th>PUEBLO BELLO</th>\n",
       "      <td>145</td>\n",
       "    </tr>\n",
       "    <tr>\n",
       "      <th>RIO DE ORO</th>\n",
       "      <td>145</td>\n",
       "    </tr>\n",
       "    <tr>\n",
       "      <th>PELAYA</th>\n",
       "      <td>129</td>\n",
       "    </tr>\n",
       "    <tr>\n",
       "      <th>CHIMICHAGUA</th>\n",
       "      <td>127</td>\n",
       "    </tr>\n",
       "    <tr>\n",
       "      <th>MANAURE BALCON DEL CESAR</th>\n",
       "      <td>82</td>\n",
       "    </tr>\n",
       "    <tr>\n",
       "      <th>GAMARRA</th>\n",
       "      <td>76</td>\n",
       "    </tr>\n",
       "    <tr>\n",
       "      <th>GONZALEZ</th>\n",
       "      <td>56</td>\n",
       "    </tr>\n",
       "    <tr>\n",
       "      <th>TAMALAMEQUE</th>\n",
       "      <td>54</td>\n",
       "    </tr>\n",
       "  </tbody>\n",
       "</table>\n",
       "</div>"
      ],
      "text/plain": [
       "                          Frec_abs\n",
       "VALLEDUPAR                   17022\n",
       "AGUACHICA                     1839\n",
       "AGUSTIN CODAZZI               1112\n",
       "LA JAGUA DE IBIRICO            781\n",
       "BOSCONIA                       579\n",
       "SAN MARTIN                     434\n",
       "CURUMANI                       375\n",
       "SAN ALBERTO                    358\n",
       "ROBLES (LA PAZ)                319\n",
       "CHIRIGUANA                     317\n",
       "EL COPEY                       279\n",
       "PAILITAS                       259\n",
       "EL PASO                        258\n",
       "BECERRIL                       222\n",
       "LA GLORIA                      207\n",
       "SAN DIEGO                      198\n",
       "ASTREA                         164\n",
       "PUEBLO BELLO                   145\n",
       "RIO DE ORO                     145\n",
       "PELAYA                         129\n",
       "CHIMICHAGUA                    127\n",
       "MANAURE BALCON DEL CESAR        82\n",
       "GAMARRA                         76\n",
       "GONZALEZ                        56\n",
       "TAMALAMEQUE                     54"
      ]
     },
     "execution_count": 57,
     "metadata": {},
     "output_type": "execute_result"
    }
   ],
   "source": [
    "#Calculo de frecuencia absoluta de casos positivos de Covid-19 por municipio\n",
    "#frec_df1=pd.DataFrame(frec_Mun)\n",
    "#frec_df1.columns=['Frec_abs']\n",
    "#frec_df1"
   ]
  },
  {
   "cell_type": "code",
   "execution_count": 59,
   "metadata": {},
   "outputs": [
    {
     "data": {
      "text/plain": [
       "<AxesSubplot:title={'center':'Número de casos positivos por COVID-19 en cada municipio'}>"
      ]
     },
     "execution_count": 59,
     "metadata": {},
     "output_type": "execute_result"
    },
    {
     "data": {
      "image/png": "[encoded data removed]",
      "text/plain": [
       "<Figure size 432x288 with 1 Axes>"
      ]
     },
     "metadata": {
      "needs_background": "light"
     },
     "output_type": "display_data"
    }
   ],
   "source": [
    "##Ploteo de frecuencia absoluta de casos positivos de Covid-19 por municipio\n",
    "df1['Nombre municipio'].value_counts().plot(kind='bar',\n",
    "                                          title='Número de casos positivos por COVID-19 en cada municipio')"
   ]
  },
  {
   "cell_type": "code",
   "execution_count": 86,
   "metadata": {},
   "outputs": [
    {
     "data": {
      "text/plain": [
       "0        30\n",
       "1        33\n",
       "2        16\n",
       "3        36\n",
       "4        46\n",
       "         ..\n",
       "25532    43\n",
       "25533    36\n",
       "25534    50\n",
       "25535    40\n",
       "25536    60\n",
       "Name: Edad, Length: 25537, dtype: int64"
      ]
     },
     "execution_count": 86,
     "metadata": {},
     "output_type": "execute_result"
    }
   ],
   "source": [
    "#Edad de personas positivas para Covid-19\n",
    "df1['Edad']"
   ]
  },
  {
   "cell_type": "code",
   "execution_count": 103,
   "metadata": {},
   "outputs": [
    {
     "data": {
      "text/plain": [
       "30     700\n",
       "29     659\n",
       "31     650\n",
       "32     644\n",
       "28     640\n",
       "      ... \n",
       "96       4\n",
       "98       3\n",
       "100      3\n",
       "99       2\n",
       "101      1\n",
       "Name: Edad, Length: 101, dtype: int64"
      ]
     },
     "execution_count": 103,
     "metadata": {},
     "output_type": "execute_result"
    }
   ],
   "source": [
    "#Calculo de frecuencia absoluta de la edad de personas positivas para Covid-19\n",
    "frec_edad = pd.value_counts(df1['Edad'])\n",
    "frec_edad"
   ]
  },
  {
   "cell_type": "code",
   "execution_count": 64,
   "metadata": {
    "scrolled": false
   },
   "outputs": [
    {
     "name": "stdout",
     "output_type": "stream",
     "text": [
      "[ 30  33  16  36  46  41  38  31  27  40  21  70  43  48  54  18  24  35\n",
      "  23  53  25  39  51  69   3  79  22  10  83  71  84  44  85   6  74  42\n",
      "  56  80   8  28  57  63  59  45  17  60  77  29  61  72  37  58  11  26\n",
      "  88  91  19  34  52  49  20  68  47  66  65  32  14   7  15   4   1   5\n",
      "  55   9  13  12  64   2  73  62  92  50  78  93  67  76  75  81  86 100\n",
      "  96  94  87  95  89  82  98  90  99  97 101]\n"
     ]
    },
    {
     "data": {
      "text/plain": [
       "<AxesSubplot:title={'center':'Edad de personas contagiadas por COVID-19 en el Departamento del Cesar'}>"
      ]
     },
     "execution_count": 64,
     "metadata": {},
     "output_type": "execute_result"
    },
    {
     "data": {
      "image/png": "[encoded data removed]",
      "text/plain": [
       "<Figure size 432x288 with 1 Axes>"
      ]
     },
     "metadata": {
      "needs_background": "light"
     },
     "output_type": "display_data"
    }
   ],
   "source": [
    "##Ploteo de frecuencia absoluta de la edad de personas positivas para Covid-19\n",
    "print(df1['Edad'].unique())\n",
    "df1['Edad'].value_counts().plot(kind='bar',\n",
    "                                title='Edad de personas contagiadas por COVID-19 en el Departamento del Cesar')"
   ]
  },
  {
   "cell_type": "code",
   "execution_count": 85,
   "metadata": {
    "scrolled": true
   },
   "outputs": [
    {
     "data": {
      "text/plain": [
       "0        M\n",
       "1        M\n",
       "2        F\n",
       "3        M\n",
       "4        M\n",
       "        ..\n",
       "25532    M\n",
       "25533    M\n",
       "25534    M\n",
       "25535    M\n",
       "25536    F\n",
       "Name: Sexo, Length: 25537, dtype: object"
      ]
     },
     "execution_count": 85,
     "metadata": {},
     "output_type": "execute_result"
    }
   ],
   "source": [
    "#Género de personas positivas para Covid-19\n",
    "df1['Sexo']"
   ]
  },
  {
   "cell_type": "code",
   "execution_count": 106,
   "metadata": {},
   "outputs": [
    {
     "data": {
      "text/plain": [
       "M    12837\n",
       "F    12700\n",
       "Name: Sexo, dtype: int64"
      ]
     },
     "execution_count": 106,
     "metadata": {},
     "output_type": "execute_result"
    }
   ],
   "source": [
    "#Calculo de frecuencia absoluta del género de personas positivas para Covid-19\n",
    "frec_sexo = pd.value_counts(df1['Sexo'])\n",
    "frec_sexo"
   ]
  },
  {
   "cell_type": "code",
   "execution_count": 97,
   "metadata": {},
   "outputs": [
    {
     "data": {
      "text/plain": [
       "<AxesSubplot:title={'center':'Género de personas contagiadas por COVID-19 en el Departamento del Cesar'}>"
      ]
     },
     "execution_count": 97,
     "metadata": {},
     "output_type": "execute_result"
    },
    {
     "data": {
      "image/png": "[encoded data removed]",
      "text/plain": [
       "<Figure size 432x288 with 1 Axes>"
      ]
     },
     "metadata": {
      "needs_background": "light"
     },
     "output_type": "display_data"
    }
   ],
   "source": [
    "##Ploteo de frecuencia absoluta del género de personas positivas para Covid-19\n",
    "df1['Sexo'].value_counts().plot(kind='bar', \n",
    "                                 title='Género de personas contagiadas por COVID-19 en el Departamento del Cesar')"
   ]
  },
  {
   "cell_type": "code",
   "execution_count": 62,
   "metadata": {},
   "outputs": [
    {
     "data": {
      "text/plain": [
       "0        En estudio\n",
       "1       Relacionado\n",
       "2        En estudio\n",
       "3       Relacionado\n",
       "4       Relacionado\n",
       "           ...     \n",
       "1291    Comunitaria\n",
       "1292    Comunitaria\n",
       "1293    Comunitaria\n",
       "1294    Comunitaria\n",
       "1295    Comunitaria\n",
       "Name: Tipo de contagio, Length: 1296, dtype: object"
      ]
     },
     "execution_count": 62,
     "metadata": {},
     "output_type": "execute_result"
    }
   ],
   "source": [
    "#Tipo de contagio de las personas positivas para COVID-19 \n",
    "df1['Tipo de contagio']"
   ]
  },
  {
   "cell_type": "code",
   "execution_count": 14,
   "metadata": {},
   "outputs": [
    {
     "data": {
      "text/plain": [
       "Comunitaria    22460\n",
       "Relacionado     3046\n",
       "En estudio        26\n",
       "Importado          5\n",
       "Name: Tipo de contagio, dtype: int64"
      ]
     },
     "execution_count": 14,
     "metadata": {},
     "output_type": "execute_result"
    }
   ],
   "source": [
    "#Calculo de frecuencia absoluta del tipo de contagio de las personas positivas para COVID-19 \n",
    "frec_TipoContagio = pd.value_counts(df1['Tipo de contagio'])\n",
    "frec_TipoContagio"
   ]
  },
  {
   "cell_type": "code",
   "execution_count": 107,
   "metadata": {},
   "outputs": [
    {
     "data": {
      "text/plain": [
       "<AxesSubplot:title={'center':'Tipo de contagio de las personas positivas para COVID-19 en el Departamento del Cesar'}>"
      ]
     },
     "execution_count": 107,
     "metadata": {},
     "output_type": "execute_result"
    },
    {
     "data": {
      "image/png": "[encoded data removed]",
      "text/plain": [
       "<Figure size 432x288 with 1 Axes>"
      ]
     },
     "metadata": {
      "needs_background": "light"
     },
     "output_type": "display_data"
    }
   ],
   "source": [
    "##Ploteo de frecuencia absoluta del tipo de contagio de las personas positivas para COVID-19 \n",
    "df1['Tipo de contagio'].value_counts().plot(kind='bar',\n",
    "                                title='Tipo de contagio de las personas positivas para COVID-19 en el Departamento del Cesar')"
   ]
  },
  {
   "cell_type": "code",
   "execution_count": 63,
   "metadata": {},
   "outputs": [
    {
     "data": {
      "text/plain": [
       "0       Casa\n",
       "1       Casa\n",
       "2       Casa\n",
       "3       Casa\n",
       "4       Casa\n",
       "        ... \n",
       "1291    Casa\n",
       "1292    Casa\n",
       "1293    Casa\n",
       "1294    Casa\n",
       "1295    Casa\n",
       "Name: Ubicación del caso, Length: 1296, dtype: object"
      ]
     },
     "execution_count": 63,
     "metadata": {},
     "output_type": "execute_result"
    }
   ],
   "source": [
    "#Ubicación de las personas contagiadas por COVID-19\n",
    "df1['Ubicación del caso']"
   ]
  },
  {
   "cell_type": "code",
   "execution_count": 116,
   "metadata": {
    "scrolled": true
   },
   "outputs": [
    {
     "name": "stdout",
     "output_type": "stream",
     "text": [
      "       Código DIVIPOLA municipio Nombre municipio  Edad Sexo Tipo de contagio  \\\n",
      "0                         20.001       VALLEDUPAR    30    M        Importado   \n",
      "1                         20.001       VALLEDUPAR    33    M      Relacionado   \n",
      "2                         20.001       VALLEDUPAR    16    F        Importado   \n",
      "3                         20.001       VALLEDUPAR    36    M        Importado   \n",
      "4                         20.001       VALLEDUPAR    46    M      Relacionado   \n",
      "...                          ...              ...   ...  ...              ...   \n",
      "25532                     20.001       VALLEDUPAR    43    M      Comunitaria   \n",
      "25533                     20.001       VALLEDUPAR    36    M      Comunitaria   \n",
      "25534                     20.001       VALLEDUPAR    50    M      Comunitaria   \n",
      "25535                     20.621  ROBLES (LA PAZ)    40    M      Comunitaria   \n",
      "25536                     20.001       VALLEDUPAR    60    F      Comunitaria   \n",
      "\n",
      "      Ubicación del caso Estado  Fecha de inicio de síntomas  Fecha de muerte  \\\n",
      "0                   Casa   Leve                      43905.0              NaN   \n",
      "1                   Casa   Leve                      43904.0              NaN   \n",
      "2                   Casa   Leve                      43911.0              NaN   \n",
      "3                   Casa   Leve                          NaN              NaN   \n",
      "4                   Casa   Leve                      43906.0              NaN   \n",
      "...                  ...    ...                          ...              ...   \n",
      "25532               Casa   Leve                      44118.0              NaN   \n",
      "25533               Casa   Leve                      44118.0              NaN   \n",
      "25534               Casa   Leve                      44118.0              NaN   \n",
      "25535               Casa   Leve                      44114.0              NaN   \n",
      "25536               Casa   Leve                      44116.0              NaN   \n",
      "\n",
      "       Fecha de diagnóstico  Fecha de recuperación  \n",
      "0                     43912                43915.0  \n",
      "1                     43914                43929.0  \n",
      "2                     43918                43925.0  \n",
      "3                     43919                43925.0  \n",
      "4                     43921                43936.0  \n",
      "...                     ...                    ...  \n",
      "25532                 44131                44134.0  \n",
      "25533                 44131                44134.0  \n",
      "25534                 44131                44147.0  \n",
      "25535                 44127                44134.0  \n",
      "25536                 44130                44134.0  \n",
      "\n",
      "[25537 rows x 11 columns]\n"
     ]
    },
    {
     "name": "stderr",
     "output_type": "stream",
     "text": [
      "C:\\ProgramData\\Anaconda3\\lib\\site-packages\\pandas\\core\\series.py:4563: SettingWithCopyWarning: \n",
      "A value is trying to be set on a copy of a slice from a DataFrame\n",
      "\n",
      "See the caveats in the documentation: https://pandas.pydata.org/pandas-docs/stable/user_guide/indexing.html#returning-a-view-versus-a-copy\n",
      "  return super().replace(\n"
     ]
    }
   ],
   "source": [
    "#Corrección de sintaxis\n",
    "df1['Ubicación del caso'].replace({'casa':'Casa'}, inplace=True)\n",
    "print (df1)"
   ]
  },
  {
   "cell_type": "code",
   "execution_count": 4,
   "metadata": {},
   "outputs": [
    {
     "data": {
      "text/plain": [
       "Casa         24517\n",
       "Fallecido      860\n",
       "casa             1\n",
       "Name: Ubicación del caso, dtype: int64"
      ]
     },
     "execution_count": 4,
     "metadata": {},
     "output_type": "execute_result"
    }
   ],
   "source": [
    "#Calculo de frecuencia absoluta de la ubicación de las personas positivas para COVID-19 \n",
    "frec_UbicacióndePersonas = pd.value_counts(df1['Ubicación del caso'])\n",
    "frec_UbicacióndePersonas"
   ]
  },
  {
   "cell_type": "code",
   "execution_count": 111,
   "metadata": {},
   "outputs": [
    {
     "data": {
      "text/plain": [
       "<AxesSubplot:title={'center':'Ubicación del caso en el Departamento del Cesar'}>"
      ]
     },
     "execution_count": 111,
     "metadata": {},
     "output_type": "execute_result"
    },
    {
     "data": {
      "image/png": "[encoded data removed]",
      "text/plain": [
       "<Figure size 432x288 with 1 Axes>"
      ]
     },
     "metadata": {
      "needs_background": "light"
     },
     "output_type": "display_data"
    }
   ],
   "source": [
    "##Ploteo de frecuencia absoluta de la ubicación de las personas contagiadas por COVID-19 \n",
    "df1['Ubicación del caso'].value_counts().plot(kind='bar',\n",
    "                                title='Ubicación del caso en el Departamento del Cesar')"
   ]
  },
  {
   "cell_type": "code",
   "execution_count": 114,
   "metadata": {},
   "outputs": [
    {
     "data": {
      "text/plain": [
       "0        Leve\n",
       "1        Leve\n",
       "2        Leve\n",
       "3        Leve\n",
       "4        Leve\n",
       "         ... \n",
       "25532    Leve\n",
       "25533    Leve\n",
       "25534    Leve\n",
       "25535    Leve\n",
       "25536    Leve\n",
       "Name: Estado, Length: 25537, dtype: object"
      ]
     },
     "execution_count": 114,
     "metadata": {},
     "output_type": "execute_result"
    }
   ],
   "source": [
    "#Estado de las personas contagiadas por COVID-19 \n",
    "df1['Estado']"
   ]
  },
  {
   "cell_type": "code",
   "execution_count": 4,
   "metadata": {},
   "outputs": [
    {
     "name": "stdout",
     "output_type": "stream",
     "text": [
      "       Fecha reporte web  ID de caso  Fecha de notificación  \\\n",
      "0                  43912       213.0                  43909   \n",
      "1                  43914       328.0                  43911   \n",
      "2                  43918       549.0                  43916   \n",
      "3                  43919       662.0                  43918   \n",
      "4                  43921       812.0                  43914   \n",
      "...                  ...         ...                    ...   \n",
      "25532              44133         NaN                  44121   \n",
      "25533              44133         NaN                  44121   \n",
      "25534              44133         NaN                  44121   \n",
      "25535              44133         NaN                  44117   \n",
      "25536              44133         NaN                  44119   \n",
      "\n",
      "       Código DIVIPOLA departamento Nombre departamento  \\\n",
      "0                                20               CESAR   \n",
      "1                                20               CESAR   \n",
      "2                                20               CESAR   \n",
      "3                                20               CESAR   \n",
      "4                                20               CESAR   \n",
      "...                             ...                 ...   \n",
      "25532                            20               CESAR   \n",
      "25533                            20               CESAR   \n",
      "25534                            20               CESAR   \n",
      "25535                            20               CESAR   \n",
      "25536                            20               CESAR   \n",
      "\n",
      "       Código DIVIPOLA municipio Nombre municipio  Edad  \\\n",
      "0                         20.001       VALLEDUPAR    30   \n",
      "1                         20.001       VALLEDUPAR    33   \n",
      "2                         20.001       VALLEDUPAR    16   \n",
      "3                         20.001       VALLEDUPAR    36   \n",
      "4                         20.001       VALLEDUPAR    46   \n",
      "...                          ...              ...   ...   \n",
      "25532                     20.001       VALLEDUPAR    43   \n",
      "25533                     20.001       VALLEDUPAR    36   \n",
      "25534                     20.001       VALLEDUPAR    50   \n",
      "25535                     20.621  ROBLES (LA PAZ)    40   \n",
      "25536                     20.001       VALLEDUPAR    60   \n",
      "\n",
      "       Unidad de medida de edad Sexo  ... Código ISO del país  \\\n",
      "0                             1    M  ...               724.0   \n",
      "1                             1    M  ...                 NaN   \n",
      "2                             1    F  ...               826.0   \n",
      "3                             1    M  ...               724.0   \n",
      "4                             1    M  ...                 NaN   \n",
      "...                         ...  ...  ...                 ...   \n",
      "25532                         1    M  ...                 NaN   \n",
      "25533                         1    M  ...                 NaN   \n",
      "25534                         1    M  ...                 NaN   \n",
      "25535                         1    M  ...                 NaN   \n",
      "25536                         1    F  ...                 NaN   \n",
      "\n",
      "                                       Nombre del país  Recuperado  \\\n",
      "0                                               ESPAÑA  Recuperado   \n",
      "1                                                  NaN  Recuperado   \n",
      "2      REINO UNIDO DE GRAN BRETAÑA E IRLANDA DEL NORTE  Recuperado   \n",
      "3                                               ESPAÑA  Recuperado   \n",
      "4                                                  NaN  Recuperado   \n",
      "...                                                ...         ...   \n",
      "25532                                              NaN  Recuperado   \n",
      "25533                                              NaN  Recuperado   \n",
      "25534                                              NaN  Recuperado   \n",
      "25535                                              NaN  Recuperado   \n",
      "25536                                              NaN  Recuperado   \n",
      "\n",
      "       Fecha de inicio de síntomas Fecha de muerte Fecha de diagnóstico  \\\n",
      "0                          43905.0             NaN                43912   \n",
      "1                          43904.0             NaN                43914   \n",
      "2                          43911.0             NaN                43918   \n",
      "3                              NaN             NaN                43919   \n",
      "4                          43906.0             NaN                43921   \n",
      "...                            ...             ...                  ...   \n",
      "25532                      44118.0             NaN                44131   \n",
      "25533                      44118.0             NaN                44131   \n",
      "25534                      44118.0             NaN                44131   \n",
      "25535                      44114.0             NaN                44127   \n",
      "25536                      44116.0             NaN                44130   \n",
      "\n",
      "       Fecha de recuperación  Tipo de recuperación  Pertenencia étnica  \\\n",
      "0                    43915.0                   PCR                   6   \n",
      "1                    43929.0                   PCR                   6   \n",
      "2                    43925.0                   PCR                   6   \n",
      "3                    43925.0                   PCR                   6   \n",
      "4                    43936.0                   PCR                   6   \n",
      "...                      ...                   ...                 ...   \n",
      "25532                44134.0                   PCR                   6   \n",
      "25533                44134.0                   PCR                   6   \n",
      "25534                44147.0                   PCR                   6   \n",
      "25535                44134.0                Tiempo                   6   \n",
      "25536                44134.0                Tiempo                   6   \n",
      "\n",
      "       Nombre del grupo étnico  \n",
      "0                          NaN  \n",
      "1                          NaN  \n",
      "2                          NaN  \n",
      "3                          NaN  \n",
      "4                          NaN  \n",
      "...                        ...  \n",
      "25532                      NaN  \n",
      "25533                      NaN  \n",
      "25534                      NaN  \n",
      "25535                      NaN  \n",
      "25536                      NaN  \n",
      "\n",
      "[25537 rows x 23 columns]\n"
     ]
    },
    {
     "name": "stderr",
     "output_type": "stream",
     "text": [
      "C:\\ProgramData\\Anaconda3\\lib\\site-packages\\pandas\\core\\series.py:4563: SettingWithCopyWarning: \n",
      "A value is trying to be set on a copy of a slice from a DataFrame\n",
      "\n",
      "See the caveats in the documentation: https://pandas.pydata.org/pandas-docs/stable/user_guide/indexing.html#returning-a-view-versus-a-copy\n",
      "  return super().replace(\n"
     ]
    }
   ],
   "source": [
    "#Corrección de sintaxis\n",
    "df1['Estado'].replace({'leve':'Leve'}, inplace=True)\n",
    "print (df)"
   ]
  },
  {
   "cell_type": "code",
   "execution_count": 5,
   "metadata": {
    "scrolled": true
   },
   "outputs": [
    {
     "data": {
      "text/plain": [
       "<AxesSubplot:title={'center':'Estado de las personas contagiadas por COVID-19 en el Departamento del Cesar'}>"
      ]
     },
     "execution_count": 5,
     "metadata": {},
     "output_type": "execute_result"
    },
    {
     "data": {
      "image/png": "[encoded data removed]",
      "text/plain": [
       "<Figure size 432x288 with 1 Axes>"
      ]
     },
     "metadata": {
      "needs_background": "light"
     },
     "output_type": "display_data"
    }
   ],
   "source": [
    "##Ploteo de frecuencia absoluta del estado de las personas contagiadas por COVID-19\n",
    "df1['Estado'].value_counts().plot(kind='bar',\n",
    "                                title='Estado de las personas contagiadas por COVID-19 en el Departamento del Cesar')"
   ]
  },
  {
   "cell_type": "code",
   "execution_count": 15,
   "metadata": {},
   "outputs": [
    {
     "data": {
      "text/plain": [
       "M    12837\n",
       "F    12700\n",
       "Name: Sexo, dtype: int64"
      ]
     },
     "execution_count": 15,
     "metadata": {},
     "output_type": "execute_result"
    }
   ],
   "source": [
    "#Calculo de frecuencia absoluta del estado de las personas positivas para Covid-19\n",
    "frec_estado = pd.value_counts(df1['Sexo'])\n",
    "frec_estado"
   ]
  },
  {
   "cell_type": "code",
   "execution_count": 6,
   "metadata": {},
   "outputs": [
    {
     "data": {
      "text/plain": [
       "0        43905.0\n",
       "1        43904.0\n",
       "2        43911.0\n",
       "3            NaN\n",
       "4        43906.0\n",
       "          ...   \n",
       "25532    44118.0\n",
       "25533    44118.0\n",
       "25534    44118.0\n",
       "25535    44114.0\n",
       "25536    44116.0\n",
       "Name: Fecha de inicio de síntomas, Length: 25537, dtype: float64"
      ]
     },
     "execution_count": 6,
     "metadata": {},
     "output_type": "execute_result"
    }
   ],
   "source": [
    "#Fecha de inicio de síntomas de contagio por COVID-19\n",
    "df1['Fecha de inicio de síntomas']"
   ]
  },
  {
   "cell_type": "code",
   "execution_count": 7,
   "metadata": {},
   "outputs": [
    {
     "data": {
      "text/plain": [
       "0       NaN\n",
       "1       NaN\n",
       "2       NaN\n",
       "3       NaN\n",
       "4       NaN\n",
       "         ..\n",
       "25532   NaN\n",
       "25533   NaN\n",
       "25534   NaN\n",
       "25535   NaN\n",
       "25536   NaN\n",
       "Name: Fecha de muerte, Length: 25537, dtype: float64"
      ]
     },
     "execution_count": 7,
     "metadata": {},
     "output_type": "execute_result"
    }
   ],
   "source": [
    "#Fecha de muerte por COVID-19\n",
    "df1['Fecha de muerte']"
   ]
  },
  {
   "cell_type": "code",
   "execution_count": 8,
   "metadata": {},
   "outputs": [
    {
     "data": {
      "text/plain": [
       "0        43912\n",
       "1        43914\n",
       "2        43918\n",
       "3        43919\n",
       "4        43921\n",
       "         ...  \n",
       "25532    44131\n",
       "25533    44131\n",
       "25534    44131\n",
       "25535    44127\n",
       "25536    44130\n",
       "Name: Fecha de diagnóstico, Length: 25537, dtype: int64"
      ]
     },
     "execution_count": 8,
     "metadata": {},
     "output_type": "execute_result"
    }
   ],
   "source": [
    "#Fecha de diagnóstico de contagio por COVID-19\n",
    "df1['Fecha de diagnóstico']"
   ]
  },
  {
   "cell_type": "code",
   "execution_count": 9,
   "metadata": {},
   "outputs": [
    {
     "data": {
      "text/plain": [
       "0        43915.0\n",
       "1        43929.0\n",
       "2        43925.0\n",
       "3        43925.0\n",
       "4        43936.0\n",
       "          ...   \n",
       "25532    44134.0\n",
       "25533    44134.0\n",
       "25534    44147.0\n",
       "25535    44134.0\n",
       "25536    44134.0\n",
       "Name: Fecha de recuperación, Length: 25537, dtype: float64"
      ]
     },
     "execution_count": 9,
     "metadata": {},
     "output_type": "execute_result"
    }
   ],
   "source": [
    "#Fecha de recuperación de contagio por COVID-19\n",
    "df1['Fecha de recuperación']"
   ]
  }
 ],
 "metadata": {
  "kernelspec": {
   "display_name": "Python 3",
   "language": "python",
   "name": "python3"
  },
  "language_info": {
   "codemirror_mode": {
    "name": "ipython",
    "version": 3
   },
   "file_extension": ".py",
   "mimetype": "text/x-python",
   "name": "python",
   "nbconvert_exporter": "python",
   "pygments_lexer": "ipython3",
   "version": "3.8.5"
  }
 },
 "nbformat": 4,
 "nbformat_minor": 4
}
